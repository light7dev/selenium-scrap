{
 "cells": [
  {
   "cell_type": "markdown",
   "id": "ccbcbed0",
   "metadata": {},
   "source": [
    "# How to get Canonical Name of Company\n",
    "\n",
    "\n",
    "Is Python good for Selenium?\n",
    "Connecting a browser through Selenium is easy because of the utilization of Python's API. As a scripting language, with Python in the picture, there is no need of running a compiler for converting a code. Without it, you can implement as well as utilize. Community support is the heart and soul of Python.\n",
    "\n",
    "How to get canonical name of company from keyword?"
   ]
  },
  {
   "cell_type": "markdown",
   "id": "158d716f",
   "metadata": {},
   "source": [
    "# Import packages"
   ]
  },
  {
   "cell_type": "code",
   "execution_count": 1,
   "id": "3e5266a9",
   "metadata": {},
   "outputs": [],
   "source": [
    "from selenium import webdriver\n",
    "from selenium.webdriver.chrome.options import Options\n",
    "from selenium.webdriver.common.keys import Keys\n",
    "from selenium.webdriver.common.by import By\n",
    "import pandas as pd\n",
    "import re"
   ]
  },
  {
   "cell_type": "markdown",
   "id": "bf89da33",
   "metadata": {},
   "source": [
    "# Read csv\n",
    "This csv only contains raw company names."
   ]
  },
  {
   "cell_type": "code",
   "execution_count": 2,
   "id": "f6d00253",
   "metadata": {
    "scrolled": true
   },
   "outputs": [
    {
     "data": {
      "text/html": [
       "<div>\n",
       "<style scoped>\n",
       "    .dataframe tbody tr th:only-of-type {\n",
       "        vertical-align: middle;\n",
       "    }\n",
       "\n",
       "    .dataframe tbody tr th {\n",
       "        vertical-align: top;\n",
       "    }\n",
       "\n",
       "    .dataframe thead th {\n",
       "        text-align: right;\n",
       "    }\n",
       "</style>\n",
       "<table border=\"1\" class=\"dataframe\">\n",
       "  <thead>\n",
       "    <tr style=\"text-align: right;\">\n",
       "      <th></th>\n",
       "      <th>0</th>\n",
       "    </tr>\n",
       "  </thead>\n",
       "  <tbody>\n",
       "    <tr>\n",
       "      <th>0</th>\n",
       "      <td>The Rumaisa Khawaja Co.</td>\n",
       "    </tr>\n",
       "    <tr>\n",
       "      <th>1</th>\n",
       "      <td>Top of the Funnel Leads (aka tfleads)</td>\n",
       "    </tr>\n",
       "    <tr>\n",
       "      <th>2</th>\n",
       "      <td>AmAsia Inc.</td>\n",
       "    </tr>\n",
       "    <tr>\n",
       "      <th>3</th>\n",
       "      <td>STREETS International</td>\n",
       "    </tr>\n",
       "    <tr>\n",
       "      <th>4</th>\n",
       "      <td>Hite Digital</td>\n",
       "    </tr>\n",
       "  </tbody>\n",
       "</table>\n",
       "</div>"
      ],
      "text/plain": [
       "                                       0\n",
       "0                The Rumaisa Khawaja Co.\n",
       "1  Top of the Funnel Leads (aka tfleads)\n",
       "2                            AmAsia Inc.\n",
       "3                  STREETS International\n",
       "4                           Hite Digital"
      ]
     },
     "execution_count": 2,
     "metadata": {},
     "output_type": "execute_result"
    }
   ],
   "source": [
    "df = pd.read_csv('./company-names-mini.csv', header = None)\n",
    "df.head()"
   ]
  },
  {
   "cell_type": "markdown",
   "id": "725bfedd",
   "metadata": {},
   "source": [
    "# Define name pattern from string"
   ]
  },
  {
   "cell_type": "code",
   "execution_count": 3,
   "id": "5cfd34b8",
   "metadata": {},
   "outputs": [],
   "source": [
    "company_tags = ('Inc', 'Ltd', 'LLC')"
   ]
  },
  {
   "cell_type": "markdown",
   "id": "7e2ca17e",
   "metadata": {},
   "source": [
    "# Get chrome driver"
   ]
  },
  {
   "cell_type": "code",
   "execution_count": 4,
   "id": "5820a539",
   "metadata": {},
   "outputs": [],
   "source": [
    "driver = webdriver.Chrome()\n",
    "driver.get('https://www.google.com/?hl=en')\n",
    "assert 'Google' in driver.title"
   ]
  },
  {
   "cell_type": "code",
   "execution_count": 5,
   "id": "1aec3ede",
   "metadata": {},
   "outputs": [],
   "source": [
    "def search_string(name_of_company):\n",
    "    elem = driver.find_element(By.NAME, 'q')\n",
    "    elem.clear()\n",
    "    elem.send_keys(name_of_company)\n",
    "    elem.send_keys(Keys.RETURN)\n",
    "    assert 'No results found.' not in driver.page_source\n",
    "    return driver"
   ]
  },
  {
   "cell_type": "markdown",
   "id": "6a817598",
   "metadata": {},
   "source": [
    "# Define functions for string processing\n",
    "Raw company names has divided by such cases:\n",
    "\n",
    "-it contains tag such as inc, ltd or llc\n",
    "\n",
    "-it does not contain tag\n",
    "\n",
    "-maybe it has spelling errors"
   ]
  },
  {
   "cell_type": "code",
   "execution_count": 6,
   "id": "5da5e611",
   "metadata": {
    "scrolled": false
   },
   "outputs": [],
   "source": [
    "def get_name_with_tag(has_tag, company_name, tag):\n",
    "    if has_tag:\n",
    "        valid_string = company_name\n",
    "    else:\n",
    "        valid_string = company_name + ' ' + tag\n",
    "    return valid_string\n",
    "\n",
    "def get_temp_name(has_tag, company_name, tag):\n",
    "    valid_string = get_name_with_tag(has_tag, company_name, tag)\n",
    "    result_driver = search_string(valid_string)\n",
    "    spell_error = False\n",
    "    \n",
    "    if 'Including results for' in result_driver.page_source or 'Showing results for' in result_driver.page_source:\n",
    "        correct_string = result_driver.find_element(By.CSS_SELECTOR, 'p.p64x9c.card-section.KDCVqf i')\n",
    "        valid_string = correct_string.get_attribute('innerHTML')\n",
    "        spell_error = True\n",
    "        \n",
    "    if spell_error:\n",
    "        valid_string = get_name_with_tag(has_tag, valid_string, tag)   \n",
    "        result_driver = search_string(valid_string)\n",
    "\n",
    "    resources = result_driver.find_element(By.ID, 'rcnt').get_attribute('innerHTML')\n",
    "    copy_text = resources.lower()\n",
    "    extract_candidate_names = re.finditer(valid_string[:5].lower(), copy_text)\n",
    "\n",
    "    for m in extract_candidate_names:\n",
    "        for i in range(0, len(valid_string) + 10):\n",
    "            candi = resources[m.start():m.start() + i]\n",
    "            \n",
    "            if bool(re.match('^[a-zA-Z0-9, .&amp;]*$', candi)) == True and (candi.endswith(tag + ' ') or candi.endswith(tag + '.')) and candi[0].isupper():\n",
    "                if '&amp;' in candi:\n",
    "                    candi = candi.replace('&amp;', '&')\n",
    "                if candi.endswith(' '):\n",
    "                    candi = candi[:-1] + '.'\n",
    "                return candi\n",
    "    return None\n",
    "\n",
    "def get_final_name(company_name):\n",
    "    has_tag = False\n",
    "    my_tag = 'inc'\n",
    "    for tag in company_tags:\n",
    "        if tag in company_name:\n",
    "            has_tag = True\n",
    "            my_tag = tag\n",
    "            break\n",
    "\n",
    "    res = None\n",
    "    if has_tag:\n",
    "        res = get_temp_name(True, company_name, my_tag)\n",
    "    else:\n",
    "        for tag in company_tags:\n",
    "            res = get_temp_name(False, company_name, tag)\n",
    "            if res != None:\n",
    "                break\n",
    "    if res == None:\n",
    "        return company_name\n",
    "    else:\n",
    "        return res"
   ]
  },
  {
   "cell_type": "markdown",
   "id": "fefa9d47",
   "metadata": {},
   "source": [
    "# Result"
   ]
  },
  {
   "cell_type": "code",
   "execution_count": 7,
   "id": "58c4e079",
   "metadata": {},
   "outputs": [
    {
     "name": "stdout",
     "output_type": "stream",
     "text": [
      "The Rumaisa Khawaja Co. :: THE RUMAISA KHAWAJA CO. LLC.\n",
      "Top of the Funnel Leads (aka tfleads) :: Top of the Funnel Leads (aka tfleads)\n",
      "AmAsia Inc. :: AmAsia Inc.\n",
      "STREETS International :: Streets International Inc.\n",
      "Hite Digital :: Hite Digital\n",
      "Sara G. Evans Career Consulting, LLC :: Sara G. Evans Career Consulting, LLC.\n",
      "Autopilot Growth :: AUTOPILOT GROWTH LLC.\n",
      "HyperSocial :: Hypersocial Inc.\n",
      "Human Architects :: HUMAN ARCHITECTS LLC.\n",
      "The Forgotten Art Project :: The Forgotten Art Project\n"
     ]
    }
   ],
   "source": [
    "for name in df[0]:\n",
    "    print(name, '::', get_final_name(name))\n",
    "driver.close()"
   ]
  },
  {
   "cell_type": "markdown",
   "id": "3e0b175f",
   "metadata": {},
   "source": [
    "As you can see this shows great result. Wow!!!\n",
    "Do you have any opinions?\n",
    "Please contact with me.\n",
    "heverevent22@gmail.com"
   ]
  }
 ],
 "metadata": {
  "kernelspec": {
   "display_name": "Python 3 (ipykernel)",
   "language": "python",
   "name": "python3"
  },
  "language_info": {
   "codemirror_mode": {
    "name": "ipython",
    "version": 3
   },
   "file_extension": ".py",
   "mimetype": "text/x-python",
   "name": "python",
   "nbconvert_exporter": "python",
   "pygments_lexer": "ipython3",
   "version": "3.9.12"
  }
 },
 "nbformat": 4,
 "nbformat_minor": 5
}
